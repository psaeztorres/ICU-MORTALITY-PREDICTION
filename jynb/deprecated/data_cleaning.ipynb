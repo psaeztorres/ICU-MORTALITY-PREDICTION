{
 "cells": [
  {
   "cell_type": "markdown",
   "id": "c712bbe5-041d-4978-8dd2-f3021db337eb",
   "metadata": {},
   "source": [
    "### DATA CLEANING"
   ]
  },
  {
   "cell_type": "markdown",
   "id": "ee957b49-bd3f-415f-991b-3b05e807303c",
   "metadata": {},
   "source": [
    "1. <b> Remove outliers: </b>\n",
    "- For each feature for each patient for the total waveform:\n",
    "    - Calculate the mean\n",
    "    - Calculate the standard deviation\n",
    "    - Look at those samples where the value > 10 * standard deviation??: The reason behind this is that normally an outlier is consider as something that is above 3 standard deviations. In this case because we have ill patients we consider bigger standard deviation as plausible values.\n",
    "    - Subsitute the values where >10 stdandard deviation by NaN\n",
    "      \n",
    "2. <b> Looking for features that are not representative: </b>\n",
    "- Calculate the mean for each patient for the total waveform for each feature\n",
    "- Create a df where columns are each feature average accross the whole time and rows are each patient\n",
    "- Look for each feature at the percentage of values that are missing (e.g is 70% it will mean that for 70% of the patients the value of the feature is NaN meaning that there was no data for the whole time for the specific feature)\n",
    "- Decide on a threshold for a feature to be considered not representative (missing values >70%??)\n",
    "    - e.g if a feature is missing in more than 70% of the participants we can consider this feature to be non representative and then eliminate the feature\n",
    "- Eliminate the features that satisfy the threhsold from the analysis\n",
    "\n",
    "3. <b>Looking for feature stability (to assess whether it makes sense to extract more feature granularity, if a feature is not changing overtime the mean may be representative enough) </b>\n",
    "- Calculate the mean and the standard deviationfor each patient for the total waveform for each feature\n",
    "- Extract the coefficient of variation (CV) for each feature and each participant.\n",
    "The Coefficient is the Normalized Root-Mean-Square Deviation, so we normalize the std deviation to the mean. he higher the coefficient of variation, the greater the level of dispersion around the mean. It is generally expressed as a percentage.\n",
    "- Decide on a threshold for a CV to be considered variable enough (CV>5%???). For example we may say features that have a CV < 5% we should consider directly the mean, while for the others we can consider to be more granular\n",
    "- Make a list of the features that satisfy the condition and this feature will be only represented by the mean or the median or whatever.\n",
    "\n",
    "4. <b> Count the number of samples we have in total for each feature </b>\n",
    "- For each feature create a column that is the number of total samples\n",
    "- This will give us an indication of how many values we have per feature, to as well let us know features that have been measured more or less\n",
    "\n",
    "5. <b> Construct a dataframe given the steps above  </b>\n",
    "- Each row in the dataframe will be a participant\n",
    "- Each column in the dataframe will be:\n",
    "- Features included will be only the ones that were not discarded as being not presentative (e.g < 70% of participants with missing values accross the whole signal)\n",
    "- Features represented by the total mean if in the analysis above we found that feature is not changing overtime (small coefficient of variation)\n",
    "- Features represented by hour (eg. HR_hour_1, HR_hour_2.. HR_hour48) if the features have been selected to have enough granularity to be repsented as hourly"
   ]
  },
  {
   "cell_type": "code",
   "execution_count": 3,
   "id": "6a919cb4-e9d8-49ee-a691-72057d557685",
   "metadata": {},
   "outputs": [],
   "source": [
    "import pandas as pd\n",
    "import pandas as pd\n",
    "import glob\n",
    "from pathlib import Path  # Importing the Path class from the pathlib module\n",
    "import numpy as np\n",
    "import time\n",
    "import matplotlib.pyplot as plt\n",
    "import plotly.graph_objects as go"
   ]
  },
  {
   "cell_type": "code",
   "execution_count": 4,
   "id": "89e238d8-1cc4-4d8e-86ff-9d115a164b3a",
   "metadata": {},
   "outputs": [],
   "source": [
    "def timeit(func):\n",
    "    \"\"\"\n",
    "    Decorator function to measure the execution time of another function.\n",
    "\n",
    "    Parameters:\n",
    "        func (callable): The function to be decorated.\n",
    "\n",
    "    Returns:\n",
    "        callable: A wrapper function that measures the execution time of the decorated function.\n",
    "    \"\"\"\n",
    "    def wrapper(*args, **kwargs):\n",
    "        \"\"\"\n",
    "        Wrapper function that measures the execution time of the decorated function.\n",
    "\n",
    "        Parameters:\n",
    "            *args: Positional arguments to be passed to the decorated function.\n",
    "            **kwargs: Keyword arguments to be passed to the decorated function.\n",
    "\n",
    "        Returns:\n",
    "            Any: The return value of the decorated function.\n",
    "        \"\"\"\n",
    "        start_time = time.time()\n",
    "        result = func(*args, **kwargs)\n",
    "        end_time = time.time()\n",
    "        elapsed_time = end_time - start_time\n",
    "        print(f\"Function '{func.__name__}' elapsed time: {elapsed_time} seconds\")\n",
    "        return result\n",
    "    return wrapper\n"
   ]
  },
  {
   "cell_type": "markdown",
   "id": "74d09a21-eae5-41ce-b54b-1b44f591d02d",
   "metadata": {},
   "source": [
    "### 1. Looking for non representative features and feature stability"
   ]
  },
  {
   "cell_type": "code",
   "execution_count": 5,
   "id": "454a6a51-f535-4018-98a7-0057745efeb2",
   "metadata": {},
   "outputs": [],
   "source": [
    "@timeit\n",
    "def process_time_series_files(time_series_files: list, time_parameters: list, non_time_parameters: list, summary_function: callable) -> pd.DataFrame:\n",
    "    \"\"\"\n",
    "    Process a list of time series files and extract summary statistics for each file using a specified summary function.\n",
    "\n",
    "    Parameters:\n",
    "        time_series_files (list): A list of file paths to time series data files.\n",
    "        time_parameters (list): A list of time parameters to calculate metrics for.\n",
    "        non_time_parameters (list): A list of non-time parameters to extract values for.\n",
    "        summary_function (callable): A function to calculate summary statistics for a DataFrame.\n",
    "\n",
    "    Returns:\n",
    "        pd.DataFrame: A DataFrame containing the summary statistics for all files.\n",
    "    \"\"\"\n",
    "    results = []\n",
    "\n",
    "    for file_path in time_series_files:\n",
    "        # Read the file into a DataFrame\n",
    "        df = pd.read_csv(file_path)\n",
    "        \n",
    "        # Extract summary statistics for the DataFrame using the specified summary function\n",
    "        result = summary_function(df, time_parameters, non_time_parameters)\n",
    "        \n",
    "        # Append the result to the results list\n",
    "        results.append(result)\n",
    "\n",
    "    # Concatenate results into a single DataFrame\n",
    "    final_result = pd.concat(results, ignore_index=True)\n",
    "    \n",
    "    return final_result\n"
   ]
  },
  {
   "cell_type": "code",
   "execution_count": 6,
   "id": "4f390463-94db-404f-89a8-66fff29d366e",
   "metadata": {},
   "outputs": [],
   "source": [
    "# make a list with all time parameters in the dataset\n",
    "time_parameters =  ['RecordID', 'Age', 'Gender', 'Height','Albumin', 'ALP', 'ALT ', 'AST', 'Bilirubin', 'BUN', 'Cholesterol', \n",
    "                    'Creatinine ', 'DiasABP', 'FiO2 ', 'GCS', 'Glucose', 'HCO3', 'HCT ', 'HR ', 'K',\n",
    "                    'Lactate', 'Mg', 'MAP ', 'MechVent ', 'Na', 'NIDiasABP', 'NIMAP', 'NISysABP', 'PaCO2', \n",
    "                 'PaO2',  'pH', 'Platelets', 'RespRate', 'SaO2', 'SysABP',  'Temp', 'TropI', 'TropT', 'Urine', 'WBC',  'Weight']\n",
    "\n",
    "non_time_parameters = ['RecordID', 'Age', 'Gender', 'Height']"
   ]
  },
  {
   "cell_type": "code",
   "execution_count": 52,
   "id": "91337880-73b3-4588-89ee-a3f8e87cdb50",
   "metadata": {},
   "outputs": [
    {
     "name": "stdout",
     "output_type": "stream",
     "text": [
      "Number of text files: 8000\n"
     ]
    }
   ],
   "source": [
    "# store all file paths  in a  list\n",
    "# Specify the file path using a raw string\n",
    "files_path = r\"C:\\Users\\egh22\\OneDrive - University of Canterbury\\bootcamp\\group project\\data\"\n",
    "# Use glob to find all .txt files in the directory\n",
    "time_series_files = glob.glob(str(Path(files_path) / \"*.txt\"))  # Using Path to construct the file path\n",
    "\n",
    "# Print the number of files found\n",
    "print(f\"Number of text files: {len(time_series_files)}\")\n",
    "#delete this after demonstration\n",
    "\n",
    "\n",
    "#df = pd.read_csv(time_series_files[1])\n"
   ]
  },
  {
   "cell_type": "code",
   "execution_count": 53,
   "id": "12976dfc-fe25-4cc0-8b13-9852cba51c27",
   "metadata": {},
   "outputs": [],
   "source": [
    "#functions to process files \n",
    "def summaryse_features(df: pd.DataFrame, time_features: list, non_time_features: list) -> pd.DataFrame:\n",
    "    \"\"\"\n",
    "    Calculate the mean value, coefficient of variation (CV), and number of samples for each feature,\n",
    "    after removing outliers.\n",
    "\n",
    "    Parameters:\n",
    "        df (pd.DataFrame): The input DataFrame.\n",
    "        features (list): A list of features to calculate the metrics for.\n",
    "        non_time_features(list): List of features we need to exclude as they have unique value trhough time\n",
    "\n",
    "    Returns:\n",
    "        pd.DataFrame: A DataFrame containing the mean value, coefficient of variation (CV), \n",
    "                      and number of samples for each feature after removing outliers.\n",
    "    \"\"\"\n",
    "    # Replace '-1' with NaNs\n",
    "    df = df.replace(-1.0, np.nan)\n",
    "    \n",
    "    # Create dictionaries to store the metrics for each feature\n",
    "    feature_metrics = {}\n",
    "    \n",
    "    # Iterate over each feature\n",
    "    for feat in time_features:\n",
    "        # if the feature exists for this participant\n",
    "        if feat in df['Parameter'].unique():  \n",
    "            # if the feature is age, gender... just take the mean\n",
    "            if feat in non_time_features:\n",
    "                feat_df = df[df['Parameter'] == feat]\n",
    "                feature_metrics[feat] = feat_df['Value'].iloc[0]\n",
    "            else:\n",
    "                # Filter the DataFrame for the current feature\n",
    "                feat_df = df[df['Parameter'] == feat]\n",
    "                \n",
    "                # Remove outliers\n",
    "                std_dev = feat_df['Value'].std()\n",
    "                outlier_threshold = 10 * std_dev\n",
    "                feat_df.loc[feat_df['Value'] > outlier_threshold, 'Value'] = np.nan\n",
    "                \n",
    "                # Calculate the mean value for the feature\n",
    "                mean_value = feat_df['Value'].mean()\n",
    "                \n",
    "                # Calculate the coefficient of variation for the feature\n",
    "                std_dev = feat_df['Value'].std()\n",
    "                coefficient_of_variation = (std_dev / mean_value) * 100 if mean_value != 0 else np.nan\n",
    "                \n",
    "                # Get the number of samples for the feature\n",
    "                num_samples = feat_df['Value'].count()\n",
    "                \n",
    "                # Store the metrics for the feature\n",
    "                feature_metrics[f'{feat}_mean'] = mean_value\n",
    "                feature_metrics[f'{feat}_CV'] = coefficient_of_variation\n",
    "                feature_metrics[f'{feat}_num_samples'] = num_samples\n",
    "        else:\n",
    "            # if the feature doesn't exist set the feature parameters as NaN\n",
    "            feature_metrics[f'{feat}_mean'] = np.nan\n",
    "            feature_metrics[f'{feat}_CV'] = np.nan\n",
    "            feature_metrics[f'{feat}_num_samples'] = np.nan\n",
    "        \n",
    "    # Create a DataFrame with a single row using the feature_metrics dictionary\n",
    "    result_df = pd.DataFrame([feature_metrics])\n",
    "    # convert single features back to integers\n",
    "    result_df['RecordID'] = result_df['RecordID'].astype(float).astype(pd.Int64Dtype(), errors='ignore')\n",
    "    result_df['Age'] = result_df['Age'].astype(float).astype(pd.Int64Dtype(), errors='ignore')\n",
    "    result_df['Gender'] = result_df['Gender'].astype(float).astype(pd.Int64Dtype(), errors='ignore')\n",
    "    \n",
    "    return result_df\n",
    "\n",
    "# save dataframe for feature cleaning\n",
    "result = process_time_series_files(time_series_files, time_parameters, non_time_parameters, summaryse_features)\n",
    "result.to_csv('result_for_data_cleaning.csv', index=False)"
   ]
  },
  {
   "cell_type": "code",
   "execution_count": 96,
   "id": "31de9817-71ae-49d8-87f4-fedf1afe09a3",
   "metadata": {
    "scrolled": true
   },
   "outputs": [
    {
     "data": {
      "application/vnd.plotly.v1+json": {
       "config": {
        "plotlyServerURL": "https://plot.ly"
       },
       "data": [
        {
         "marker": {
          "color": "blue"
         },
         "type": "bar",
         "x": [
          "Albumin_mean",
          "ALP_mean",
          "ALT _mean",
          "AST_mean",
          "Bilirubin_mean",
          "BUN_mean",
          "Cholesterol_mean",
          "Creatinine _mean",
          "DiasABP_mean",
          "FiO2 _mean",
          "GCS_mean",
          "Glucose_mean",
          "HCO3_mean",
          "HCT _mean",
          "HR _mean",
          "K_mean",
          "Lactate_mean",
          "Mg_mean",
          "MAP _mean",
          "MechVent _mean",
          "Na_mean",
          "NIDiasABP_mean",
          "NIMAP_mean",
          "NISysABP_mean",
          "PaCO2_mean",
          "PaO2_mean",
          "pH_mean",
          "Platelets_mean",
          "RespRate_mean",
          "SaO2_mean",
          "SysABP_mean",
          "Temp_mean",
          "TropI_mean",
          "TropT_mean",
          "Urine_mean",
          "WBC_mean",
          "Weight_mean",
          "RecordID",
          "Age",
          "Gender",
          "Height"
         ],
         "y": [
          68.3125,
          67.85,
          100,
          60.650000000000006,
          61.625,
          30.837500000000002,
          92.1125,
          100,
          34.7375,
          100,
          39,
          23.7625,
          66.35,
          100,
          100,
          55.900000000000006,
          48.7375,
          43.0625,
          100,
          100,
          97.3,
          19.5,
          27.962500000000002,
          33.6125,
          45.375,
          27.200000000000003,
          91.35,
          36.65,
          72.32499999999999,
          88.1375,
          35.525,
          98.175,
          100,
          100,
          2.725,
          25.1875,
          73.85000000000001,
          0,
          0,
          0.1,
          47.8
         ]
        }
       ],
       "layout": {
        "autosize": true,
        "template": {
         "data": {
          "bar": [
           {
            "error_x": {
             "color": "#2a3f5f"
            },
            "error_y": {
             "color": "#2a3f5f"
            },
            "marker": {
             "line": {
              "color": "#E5ECF6",
              "width": 0.5
             },
             "pattern": {
              "fillmode": "overlay",
              "size": 10,
              "solidity": 0.2
             }
            },
            "type": "bar"
           }
          ],
          "barpolar": [
           {
            "marker": {
             "line": {
              "color": "#E5ECF6",
              "width": 0.5
             },
             "pattern": {
              "fillmode": "overlay",
              "size": 10,
              "solidity": 0.2
             }
            },
            "type": "barpolar"
           }
          ],
          "carpet": [
           {
            "aaxis": {
             "endlinecolor": "#2a3f5f",
             "gridcolor": "white",
             "linecolor": "white",
             "minorgridcolor": "white",
             "startlinecolor": "#2a3f5f"
            },
            "baxis": {
             "endlinecolor": "#2a3f5f",
             "gridcolor": "white",
             "linecolor": "white",
             "minorgridcolor": "white",
             "startlinecolor": "#2a3f5f"
            },
            "type": "carpet"
           }
          ],
          "choropleth": [
           {
            "colorbar": {
             "outlinewidth": 0,
             "ticks": ""
            },
            "type": "choropleth"
           }
          ],
          "contour": [
           {
            "colorbar": {
             "outlinewidth": 0,
             "ticks": ""
            },
            "colorscale": [
             [
              0,
              "#0d0887"
             ],
             [
              0.1111111111111111,
              "#46039f"
             ],
             [
              0.2222222222222222,
              "#7201a8"
             ],
             [
              0.3333333333333333,
              "#9c179e"
             ],
             [
              0.4444444444444444,
              "#bd3786"
             ],
             [
              0.5555555555555556,
              "#d8576b"
             ],
             [
              0.6666666666666666,
              "#ed7953"
             ],
             [
              0.7777777777777778,
              "#fb9f3a"
             ],
             [
              0.8888888888888888,
              "#fdca26"
             ],
             [
              1,
              "#f0f921"
             ]
            ],
            "type": "contour"
           }
          ],
          "contourcarpet": [
           {
            "colorbar": {
             "outlinewidth": 0,
             "ticks": ""
            },
            "type": "contourcarpet"
           }
          ],
          "heatmap": [
           {
            "colorbar": {
             "outlinewidth": 0,
             "ticks": ""
            },
            "colorscale": [
             [
              0,
              "#0d0887"
             ],
             [
              0.1111111111111111,
              "#46039f"
             ],
             [
              0.2222222222222222,
              "#7201a8"
             ],
             [
              0.3333333333333333,
              "#9c179e"
             ],
             [
              0.4444444444444444,
              "#bd3786"
             ],
             [
              0.5555555555555556,
              "#d8576b"
             ],
             [
              0.6666666666666666,
              "#ed7953"
             ],
             [
              0.7777777777777778,
              "#fb9f3a"
             ],
             [
              0.8888888888888888,
              "#fdca26"
             ],
             [
              1,
              "#f0f921"
             ]
            ],
            "type": "heatmap"
           }
          ],
          "heatmapgl": [
           {
            "colorbar": {
             "outlinewidth": 0,
             "ticks": ""
            },
            "colorscale": [
             [
              0,
              "#0d0887"
             ],
             [
              0.1111111111111111,
              "#46039f"
             ],
             [
              0.2222222222222222,
              "#7201a8"
             ],
             [
              0.3333333333333333,
              "#9c179e"
             ],
             [
              0.4444444444444444,
              "#bd3786"
             ],
             [
              0.5555555555555556,
              "#d8576b"
             ],
             [
              0.6666666666666666,
              "#ed7953"
             ],
             [
              0.7777777777777778,
              "#fb9f3a"
             ],
             [
              0.8888888888888888,
              "#fdca26"
             ],
             [
              1,
              "#f0f921"
             ]
            ],
            "type": "heatmapgl"
           }
          ],
          "histogram": [
           {
            "marker": {
             "pattern": {
              "fillmode": "overlay",
              "size": 10,
              "solidity": 0.2
             }
            },
            "type": "histogram"
           }
          ],
          "histogram2d": [
           {
            "colorbar": {
             "outlinewidth": 0,
             "ticks": ""
            },
            "colorscale": [
             [
              0,
              "#0d0887"
             ],
             [
              0.1111111111111111,
              "#46039f"
             ],
             [
              0.2222222222222222,
              "#7201a8"
             ],
             [
              0.3333333333333333,
              "#9c179e"
             ],
             [
              0.4444444444444444,
              "#bd3786"
             ],
             [
              0.5555555555555556,
              "#d8576b"
             ],
             [
              0.6666666666666666,
              "#ed7953"
             ],
             [
              0.7777777777777778,
              "#fb9f3a"
             ],
             [
              0.8888888888888888,
              "#fdca26"
             ],
             [
              1,
              "#f0f921"
             ]
            ],
            "type": "histogram2d"
           }
          ],
          "histogram2dcontour": [
           {
            "colorbar": {
             "outlinewidth": 0,
             "ticks": ""
            },
            "colorscale": [
             [
              0,
              "#0d0887"
             ],
             [
              0.1111111111111111,
              "#46039f"
             ],
             [
              0.2222222222222222,
              "#7201a8"
             ],
             [
              0.3333333333333333,
              "#9c179e"
             ],
             [
              0.4444444444444444,
              "#bd3786"
             ],
             [
              0.5555555555555556,
              "#d8576b"
             ],
             [
              0.6666666666666666,
              "#ed7953"
             ],
             [
              0.7777777777777778,
              "#fb9f3a"
             ],
             [
              0.8888888888888888,
              "#fdca26"
             ],
             [
              1,
              "#f0f921"
             ]
            ],
            "type": "histogram2dcontour"
           }
          ],
          "mesh3d": [
           {
            "colorbar": {
             "outlinewidth": 0,
             "ticks": ""
            },
            "type": "mesh3d"
           }
          ],
          "parcoords": [
           {
            "line": {
             "colorbar": {
              "outlinewidth": 0,
              "ticks": ""
             }
            },
            "type": "parcoords"
           }
          ],
          "pie": [
           {
            "automargin": true,
            "type": "pie"
           }
          ],
          "scatter": [
           {
            "fillpattern": {
             "fillmode": "overlay",
             "size": 10,
             "solidity": 0.2
            },
            "type": "scatter"
           }
          ],
          "scatter3d": [
           {
            "line": {
             "colorbar": {
              "outlinewidth": 0,
              "ticks": ""
             }
            },
            "marker": {
             "colorbar": {
              "outlinewidth": 0,
              "ticks": ""
             }
            },
            "type": "scatter3d"
           }
          ],
          "scattercarpet": [
           {
            "marker": {
             "colorbar": {
              "outlinewidth": 0,
              "ticks": ""
             }
            },
            "type": "scattercarpet"
           }
          ],
          "scattergeo": [
           {
            "marker": {
             "colorbar": {
              "outlinewidth": 0,
              "ticks": ""
             }
            },
            "type": "scattergeo"
           }
          ],
          "scattergl": [
           {
            "marker": {
             "colorbar": {
              "outlinewidth": 0,
              "ticks": ""
             }
            },
            "type": "scattergl"
           }
          ],
          "scattermapbox": [
           {
            "marker": {
             "colorbar": {
              "outlinewidth": 0,
              "ticks": ""
             }
            },
            "type": "scattermapbox"
           }
          ],
          "scatterpolar": [
           {
            "marker": {
             "colorbar": {
              "outlinewidth": 0,
              "ticks": ""
             }
            },
            "type": "scatterpolar"
           }
          ],
          "scatterpolargl": [
           {
            "marker": {
             "colorbar": {
              "outlinewidth": 0,
              "ticks": ""
             }
            },
            "type": "scatterpolargl"
           }
          ],
          "scatterternary": [
           {
            "marker": {
             "colorbar": {
              "outlinewidth": 0,
              "ticks": ""
             }
            },
            "type": "scatterternary"
           }
          ],
          "surface": [
           {
            "colorbar": {
             "outlinewidth": 0,
             "ticks": ""
            },
            "colorscale": [
             [
              0,
              "#0d0887"
             ],
             [
              0.1111111111111111,
              "#46039f"
             ],
             [
              0.2222222222222222,
              "#7201a8"
             ],
             [
              0.3333333333333333,
              "#9c179e"
             ],
             [
              0.4444444444444444,
              "#bd3786"
             ],
             [
              0.5555555555555556,
              "#d8576b"
             ],
             [
              0.6666666666666666,
              "#ed7953"
             ],
             [
              0.7777777777777778,
              "#fb9f3a"
             ],
             [
              0.8888888888888888,
              "#fdca26"
             ],
             [
              1,
              "#f0f921"
             ]
            ],
            "type": "surface"
           }
          ],
          "table": [
           {
            "cells": {
             "fill": {
              "color": "#EBF0F8"
             },
             "line": {
              "color": "white"
             }
            },
            "header": {
             "fill": {
              "color": "#C8D4E3"
             },
             "line": {
              "color": "white"
             }
            },
            "type": "table"
           }
          ]
         },
         "layout": {
          "annotationdefaults": {
           "arrowcolor": "#2a3f5f",
           "arrowhead": 0,
           "arrowwidth": 1
          },
          "autotypenumbers": "strict",
          "coloraxis": {
           "colorbar": {
            "outlinewidth": 0,
            "ticks": ""
           }
          },
          "colorscale": {
           "diverging": [
            [
             0,
             "#8e0152"
            ],
            [
             0.1,
             "#c51b7d"
            ],
            [
             0.2,
             "#de77ae"
            ],
            [
             0.3,
             "#f1b6da"
            ],
            [
             0.4,
             "#fde0ef"
            ],
            [
             0.5,
             "#f7f7f7"
            ],
            [
             0.6,
             "#e6f5d0"
            ],
            [
             0.7,
             "#b8e186"
            ],
            [
             0.8,
             "#7fbc41"
            ],
            [
             0.9,
             "#4d9221"
            ],
            [
             1,
             "#276419"
            ]
           ],
           "sequential": [
            [
             0,
             "#0d0887"
            ],
            [
             0.1111111111111111,
             "#46039f"
            ],
            [
             0.2222222222222222,
             "#7201a8"
            ],
            [
             0.3333333333333333,
             "#9c179e"
            ],
            [
             0.4444444444444444,
             "#bd3786"
            ],
            [
             0.5555555555555556,
             "#d8576b"
            ],
            [
             0.6666666666666666,
             "#ed7953"
            ],
            [
             0.7777777777777778,
             "#fb9f3a"
            ],
            [
             0.8888888888888888,
             "#fdca26"
            ],
            [
             1,
             "#f0f921"
            ]
           ],
           "sequentialminus": [
            [
             0,
             "#0d0887"
            ],
            [
             0.1111111111111111,
             "#46039f"
            ],
            [
             0.2222222222222222,
             "#7201a8"
            ],
            [
             0.3333333333333333,
             "#9c179e"
            ],
            [
             0.4444444444444444,
             "#bd3786"
            ],
            [
             0.5555555555555556,
             "#d8576b"
            ],
            [
             0.6666666666666666,
             "#ed7953"
            ],
            [
             0.7777777777777778,
             "#fb9f3a"
            ],
            [
             0.8888888888888888,
             "#fdca26"
            ],
            [
             1,
             "#f0f921"
            ]
           ]
          },
          "colorway": [
           "#636efa",
           "#EF553B",
           "#00cc96",
           "#ab63fa",
           "#FFA15A",
           "#19d3f3",
           "#FF6692",
           "#B6E880",
           "#FF97FF",
           "#FECB52"
          ],
          "font": {
           "color": "#2a3f5f"
          },
          "geo": {
           "bgcolor": "white",
           "lakecolor": "white",
           "landcolor": "#E5ECF6",
           "showlakes": true,
           "showland": true,
           "subunitcolor": "white"
          },
          "hoverlabel": {
           "align": "left"
          },
          "hovermode": "closest",
          "mapbox": {
           "style": "light"
          },
          "paper_bgcolor": "white",
          "plot_bgcolor": "#E5ECF6",
          "polar": {
           "angularaxis": {
            "gridcolor": "white",
            "linecolor": "white",
            "ticks": ""
           },
           "bgcolor": "#E5ECF6",
           "radialaxis": {
            "gridcolor": "white",
            "linecolor": "white",
            "ticks": ""
           }
          },
          "scene": {
           "xaxis": {
            "backgroundcolor": "#E5ECF6",
            "gridcolor": "white",
            "gridwidth": 2,
            "linecolor": "white",
            "showbackground": true,
            "ticks": "",
            "zerolinecolor": "white"
           },
           "yaxis": {
            "backgroundcolor": "#E5ECF6",
            "gridcolor": "white",
            "gridwidth": 2,
            "linecolor": "white",
            "showbackground": true,
            "ticks": "",
            "zerolinecolor": "white"
           },
           "zaxis": {
            "backgroundcolor": "#E5ECF6",
            "gridcolor": "white",
            "gridwidth": 2,
            "linecolor": "white",
            "showbackground": true,
            "ticks": "",
            "zerolinecolor": "white"
           }
          },
          "shapedefaults": {
           "line": {
            "color": "#2a3f5f"
           }
          },
          "ternary": {
           "aaxis": {
            "gridcolor": "white",
            "linecolor": "white",
            "ticks": ""
           },
           "baxis": {
            "gridcolor": "white",
            "linecolor": "white",
            "ticks": ""
           },
           "bgcolor": "#E5ECF6",
           "caxis": {
            "gridcolor": "white",
            "linecolor": "white",
            "ticks": ""
           }
          },
          "title": {
           "x": 0.05
          },
          "xaxis": {
           "automargin": true,
           "gridcolor": "white",
           "linecolor": "white",
           "ticks": "",
           "title": {
            "standoff": 15
           },
           "zerolinecolor": "white",
           "zerolinewidth": 2
          },
          "yaxis": {
           "automargin": true,
           "gridcolor": "white",
           "linecolor": "white",
           "ticks": "",
           "title": {
            "standoff": 15
           },
           "zerolinecolor": "white",
           "zerolinewidth": 2
          }
         }
        },
        "title": {
         "text": "<b>Missing Values Count in Dataset</b>"
        },
        "xaxis": {
         "autorange": true,
         "range": [
          -0.5,
          40.5
         ],
         "tickangle": -90,
         "tickfont": {
          "size": 8
         },
         "title": {
          "text": "Features"
         },
         "type": "category"
        },
        "yaxis": {
         "autorange": true,
         "range": [
          0,
          105.26315789473685
         ],
         "title": {
          "text": "Percent"
         },
         "type": "linear"
        }
       }
      },
      "image/png": "[encoded data removed]",
      "text/html": [
       "<div>                            <div id=\"7357e62e-9212-4776-90b2-c2edaf1fcdf1\" class=\"plotly-graph-div\" style=\"height:525px; width:100%;\"></div>            <script type=\"text/javascript\">                require([\"plotly\"], function(Plotly) {                    window.PLOTLYENV=window.PLOTLYENV || {};                                    if (document.getElementById(\"7357e62e-9212-4776-90b2-c2edaf1fcdf1\")) {                    Plotly.newPlot(                        \"7357e62e-9212-4776-90b2-c2edaf1fcdf1\",                        [{\"marker\":{\"color\":\"blue\"},\"x\":[\"Albumin_mean\",\"ALP_mean\",\"ALT _mean\",\"AST_mean\",\"Bilirubin_mean\",\"BUN_mean\",\"Cholesterol_mean\",\"Creatinine _mean\",\"DiasABP_mean\",\"FiO2 _mean\",\"GCS_mean\",\"Glucose_mean\",\"HCO3_mean\",\"HCT _mean\",\"HR _mean\",\"K_mean\",\"Lactate_mean\",\"Mg_mean\",\"MAP _mean\",\"MechVent _mean\",\"Na_mean\",\"NIDiasABP_mean\",\"NIMAP_mean\",\"NISysABP_mean\",\"PaCO2_mean\",\"PaO2_mean\",\"pH_mean\",\"Platelets_mean\",\"RespRate_mean\",\"SaO2_mean\",\"SysABP_mean\",\"Temp_mean\",\"TropI_mean\",\"TropT_mean\",\"Urine_mean\",\"WBC_mean\",\"Weight_mean\",\"RecordID\",\"Age\",\"Gender\",\"Height\"],\"y\":[68.3125,67.85,100.0,60.650000000000006,61.625,30.837500000000002,92.1125,100.0,34.7375,100.0,39.0,23.7625,66.35,100.0,100.0,55.900000000000006,48.7375,43.0625,100.0,100.0,97.3,19.5,27.962500000000002,33.6125,45.375,27.200000000000003,91.35,36.65,72.32499999999999,88.1375,35.525,98.175,100.0,100.0,2.725,25.1875,73.85000000000001,0.0,0.0,0.1,47.8],\"type\":\"bar\"}],                        {\"template\":{\"data\":{\"histogram2dcontour\":[{\"type\":\"histogram2dcontour\",\"colorbar\":{\"outlinewidth\":0,\"ticks\":\"\"},\"colorscale\":[[0.0,\"#0d0887\"],[0.1111111111111111,\"#46039f\"],[0.2222222222222222,\"#7201a8\"],[0.3333333333333333,\"#9c179e\"],[0.4444444444444444,\"#bd3786\"],[0.5555555555555556,\"#d8576b\"],[0.6666666666666666,\"#ed7953\"],[0.7777777777777778,\"#fb9f3a\"],[0.8888888888888888,\"#fdca26\"],[1.0,\"#f0f921\"]]}],\"choropleth\":[{\"type\":\"choropleth\",\"colorbar\":{\"outlinewidth\":0,\"ticks\":\"\"}}],\"histogram2d\":[{\"type\":\"histogram2d\",\"colorbar\":{\"outlinewidth\":0,\"ticks\":\"\"},\"colorscale\":[[0.0,\"#0d0887\"],[0.1111111111111111,\"#46039f\"],[0.2222222222222222,\"#7201a8\"],[0.3333333333333333,\"#9c179e\"],[0.4444444444444444,\"#bd3786\"],[0.5555555555555556,\"#d8576b\"],[0.6666666666666666,\"#ed7953\"],[0.7777777777777778,\"#fb9f3a\"],[0.8888888888888888,\"#fdca26\"],[1.0,\"#f0f921\"]]}],\"heatmap\":[{\"type\":\"heatmap\",\"colorbar\":{\"outlinewidth\":0,\"ticks\":\"\"},\"colorscale\":[[0.0,\"#0d0887\"],[0.1111111111111111,\"#46039f\"],[0.2222222222222222,\"#7201a8\"],[0.3333333333333333,\"#9c179e\"],[0.4444444444444444,\"#bd3786\"],[0.5555555555555556,\"#d8576b\"],[0.6666666666666666,\"#ed7953\"],[0.7777777777777778,\"#fb9f3a\"],[0.8888888888888888,\"#fdca26\"],[1.0,\"#f0f921\"]]}],\"heatmapgl\":[{\"type\":\"heatmapgl\",\"colorbar\":{\"outlinewidth\":0,\"ticks\":\"\"},\"colorscale\":[[0.0,\"#0d0887\"],[0.1111111111111111,\"#46039f\"],[0.2222222222222222,\"#7201a8\"],[0.3333333333333333,\"#9c179e\"],[0.4444444444444444,\"#bd3786\"],[0.5555555555555556,\"#d8576b\"],[0.6666666666666666,\"#ed7953\"],[0.7777777777777778,\"#fb9f3a\"],[0.8888888888888888,\"#fdca26\"],[1.0,\"#f0f921\"]]}],\"contourcarpet\":[{\"type\":\"contourcarpet\",\"colorbar\":{\"outlinewidth\":0,\"ticks\":\"\"}}],\"contour\":[{\"type\":\"contour\",\"colorbar\":{\"outlinewidth\":0,\"ticks\":\"\"},\"colorscale\":[[0.0,\"#0d0887\"],[0.1111111111111111,\"#46039f\"],[0.2222222222222222,\"#7201a8\"],[0.3333333333333333,\"#9c179e\"],[0.4444444444444444,\"#bd3786\"],[0.5555555555555556,\"#d8576b\"],[0.6666666666666666,\"#ed7953\"],[0.7777777777777778,\"#fb9f3a\"],[0.8888888888888888,\"#fdca26\"],[1.0,\"#f0f921\"]]}],\"surface\":[{\"type\":\"surface\",\"colorbar\":{\"outlinewidth\":0,\"ticks\":\"\"},\"colorscale\":[[0.0,\"#0d0887\"],[0.1111111111111111,\"#46039f\"],[0.2222222222222222,\"#7201a8\"],[0.3333333333333333,\"#9c179e\"],[0.4444444444444444,\"#bd3786\"],[0.5555555555555556,\"#d8576b\"],[0.6666666666666666,\"#ed7953\"],[0.7777777777777778,\"#fb9f3a\"],[0.8888888888888888,\"#fdca26\"],[1.0,\"#f0f921\"]]}],\"mesh3d\":[{\"type\":\"mesh3d\",\"colorbar\":{\"outlinewidth\":0,\"ticks\":\"\"}}],\"scatter\":[{\"fillpattern\":{\"fillmode\":\"overlay\",\"size\":10,\"solidity\":0.2},\"type\":\"scatter\"}],\"parcoords\":[{\"type\":\"parcoords\",\"line\":{\"colorbar\":{\"outlinewidth\":0,\"ticks\":\"\"}}}],\"scatterpolargl\":[{\"type\":\"scatterpolargl\",\"marker\":{\"colorbar\":{\"outlinewidth\":0,\"ticks\":\"\"}}}],\"bar\":[{\"error_x\":{\"color\":\"#2a3f5f\"},\"error_y\":{\"color\":\"#2a3f5f\"},\"marker\":{\"line\":{\"color\":\"#E5ECF6\",\"width\":0.5},\"pattern\":{\"fillmode\":\"overlay\",\"size\":10,\"solidity\":0.2}},\"type\":\"bar\"}],\"scattergeo\":[{\"type\":\"scattergeo\",\"marker\":{\"colorbar\":{\"outlinewidth\":0,\"ticks\":\"\"}}}],\"scatterpolar\":[{\"type\":\"scatterpolar\",\"marker\":{\"colorbar\":{\"outlinewidth\":0,\"ticks\":\"\"}}}],\"histogram\":[{\"marker\":{\"pattern\":{\"fillmode\":\"overlay\",\"size\":10,\"solidity\":0.2}},\"type\":\"histogram\"}],\"scattergl\":[{\"type\":\"scattergl\",\"marker\":{\"colorbar\":{\"outlinewidth\":0,\"ticks\":\"\"}}}],\"scatter3d\":[{\"type\":\"scatter3d\",\"line\":{\"colorbar\":{\"outlinewidth\":0,\"ticks\":\"\"}},\"marker\":{\"colorbar\":{\"outlinewidth\":0,\"ticks\":\"\"}}}],\"scattermapbox\":[{\"type\":\"scattermapbox\",\"marker\":{\"colorbar\":{\"outlinewidth\":0,\"ticks\":\"\"}}}],\"scatterternary\":[{\"type\":\"scatterternary\",\"marker\":{\"colorbar\":{\"outlinewidth\":0,\"ticks\":\"\"}}}],\"scattercarpet\":[{\"type\":\"scattercarpet\",\"marker\":{\"colorbar\":{\"outlinewidth\":0,\"ticks\":\"\"}}}],\"carpet\":[{\"aaxis\":{\"endlinecolor\":\"#2a3f5f\",\"gridcolor\":\"white\",\"linecolor\":\"white\",\"minorgridcolor\":\"white\",\"startlinecolor\":\"#2a3f5f\"},\"baxis\":{\"endlinecolor\":\"#2a3f5f\",\"gridcolor\":\"white\",\"linecolor\":\"white\",\"minorgridcolor\":\"white\",\"startlinecolor\":\"#2a3f5f\"},\"type\":\"carpet\"}],\"table\":[{\"cells\":{\"fill\":{\"color\":\"#EBF0F8\"},\"line\":{\"color\":\"white\"}},\"header\":{\"fill\":{\"color\":\"#C8D4E3\"},\"line\":{\"color\":\"white\"}},\"type\":\"table\"}],\"barpolar\":[{\"marker\":{\"line\":{\"color\":\"#E5ECF6\",\"width\":0.5},\"pattern\":{\"fillmode\":\"overlay\",\"size\":10,\"solidity\":0.2}},\"type\":\"barpolar\"}],\"pie\":[{\"automargin\":true,\"type\":\"pie\"}]},\"layout\":{\"autotypenumbers\":\"strict\",\"colorway\":[\"#636efa\",\"#EF553B\",\"#00cc96\",\"#ab63fa\",\"#FFA15A\",\"#19d3f3\",\"#FF6692\",\"#B6E880\",\"#FF97FF\",\"#FECB52\"],\"font\":{\"color\":\"#2a3f5f\"},\"hovermode\":\"closest\",\"hoverlabel\":{\"align\":\"left\"},\"paper_bgcolor\":\"white\",\"plot_bgcolor\":\"#E5ECF6\",\"polar\":{\"bgcolor\":\"#E5ECF6\",\"angularaxis\":{\"gridcolor\":\"white\",\"linecolor\":\"white\",\"ticks\":\"\"},\"radialaxis\":{\"gridcolor\":\"white\",\"linecolor\":\"white\",\"ticks\":\"\"}},\"ternary\":{\"bgcolor\":\"#E5ECF6\",\"aaxis\":{\"gridcolor\":\"white\",\"linecolor\":\"white\",\"ticks\":\"\"},\"baxis\":{\"gridcolor\":\"white\",\"linecolor\":\"white\",\"ticks\":\"\"},\"caxis\":{\"gridcolor\":\"white\",\"linecolor\":\"white\",\"ticks\":\"\"}},\"coloraxis\":{\"colorbar\":{\"outlinewidth\":0,\"ticks\":\"\"}},\"colorscale\":{\"sequential\":[[0.0,\"#0d0887\"],[0.1111111111111111,\"#46039f\"],[0.2222222222222222,\"#7201a8\"],[0.3333333333333333,\"#9c179e\"],[0.4444444444444444,\"#bd3786\"],[0.5555555555555556,\"#d8576b\"],[0.6666666666666666,\"#ed7953\"],[0.7777777777777778,\"#fb9f3a\"],[0.8888888888888888,\"#fdca26\"],[1.0,\"#f0f921\"]],\"sequentialminus\":[[0.0,\"#0d0887\"],[0.1111111111111111,\"#46039f\"],[0.2222222222222222,\"#7201a8\"],[0.3333333333333333,\"#9c179e\"],[0.4444444444444444,\"#bd3786\"],[0.5555555555555556,\"#d8576b\"],[0.6666666666666666,\"#ed7953\"],[0.7777777777777778,\"#fb9f3a\"],[0.8888888888888888,\"#fdca26\"],[1.0,\"#f0f921\"]],\"diverging\":[[0,\"#8e0152\"],[0.1,\"#c51b7d\"],[0.2,\"#de77ae\"],[0.3,\"#f1b6da\"],[0.4,\"#fde0ef\"],[0.5,\"#f7f7f7\"],[0.6,\"#e6f5d0\"],[0.7,\"#b8e186\"],[0.8,\"#7fbc41\"],[0.9,\"#4d9221\"],[1,\"#276419\"]]},\"xaxis\":{\"gridcolor\":\"white\",\"linecolor\":\"white\",\"ticks\":\"\",\"title\":{\"standoff\":15},\"zerolinecolor\":\"white\",\"automargin\":true,\"zerolinewidth\":2},\"yaxis\":{\"gridcolor\":\"white\",\"linecolor\":\"white\",\"ticks\":\"\",\"title\":{\"standoff\":15},\"zerolinecolor\":\"white\",\"automargin\":true,\"zerolinewidth\":2},\"scene\":{\"xaxis\":{\"backgroundcolor\":\"#E5ECF6\",\"gridcolor\":\"white\",\"linecolor\":\"white\",\"showbackground\":true,\"ticks\":\"\",\"zerolinecolor\":\"white\",\"gridwidth\":2},\"yaxis\":{\"backgroundcolor\":\"#E5ECF6\",\"gridcolor\":\"white\",\"linecolor\":\"white\",\"showbackground\":true,\"ticks\":\"\",\"zerolinecolor\":\"white\",\"gridwidth\":2},\"zaxis\":{\"backgroundcolor\":\"#E5ECF6\",\"gridcolor\":\"white\",\"linecolor\":\"white\",\"showbackground\":true,\"ticks\":\"\",\"zerolinecolor\":\"white\",\"gridwidth\":2}},\"shapedefaults\":{\"line\":{\"color\":\"#2a3f5f\"}},\"annotationdefaults\":{\"arrowcolor\":\"#2a3f5f\",\"arrowhead\":0,\"arrowwidth\":1},\"geo\":{\"bgcolor\":\"white\",\"landcolor\":\"#E5ECF6\",\"subunitcolor\":\"white\",\"showland\":true,\"showlakes\":true,\"lakecolor\":\"white\"},\"title\":{\"x\":0.05},\"mapbox\":{\"style\":\"light\"}}},\"xaxis\":{\"title\":{\"text\":\"Features\"},\"tickangle\":-90,\"tickfont\":{\"size\":8}},\"title\":{\"text\":\"\\u003cb\\u003eMissing Values Count in Dataset\\u003c\\u002fb\\u003e\"},\"yaxis\":{\"title\":{\"text\":\"Percent\"}}},                        {\"responsive\": true}                    ).then(function(){\n",
       "                            \n",
       "var gd = document.getElementById('7357e62e-9212-4776-90b2-c2edaf1fcdf1');\n",
       "var x = new MutationObserver(function (mutations, observer) {{\n",
       "        var display = window.getComputedStyle(gd).display;\n",
       "        if (!display || display === 'none') {{\n",
       "            console.log([gd, 'removed!']);\n",
       "            Plotly.purge(gd);\n",
       "            observer.disconnect();\n",
       "        }}\n",
       "}});\n",
       "\n",
       "// Listen for the removal of the full notebook cells\n",
       "var notebookContainer = gd.closest('#notebook-container');\n",
       "if (notebookContainer) {{\n",
       "    x.observe(notebookContainer, {childList: true});\n",
       "}}\n",
       "\n",
       "// Listen for the clearing of the current output cell\n",
       "var outputEl = gd.closest('.output');\n",
       "if (outputEl) {{\n",
       "    x.observe(outputEl, {childList: true});\n",
       "}}\n",
       "\n",
       "                        })                };                });            </script>        </div>"
      ]
     },
     "metadata": {},
     "output_type": "display_data"
    }
   ],
   "source": [
    "\n",
    "# From results data frame calculate the percentaje of NaNs\n",
    "# Missing values plot\n",
    "# Filter the DataFrame to include only features with '_mean' in their names\n",
    "mean_features = [col for col in result.columns if '_mean' in col]\n",
    "mean_features.extend(non_time_parameters)\n",
    "# Calculate the total number of values for each mean feature\n",
    "total_values = result[mean_features].shape[0]\n",
    "\n",
    "\n",
    "# Calculate the number of NaN values for each mean feature\n",
    "missing  = result[mean_features].isna().sum().reset_index()\n",
    "missing.columns = ['features', 'total_missing']\n",
    "missing['percent'] = (missing['total_missing'] / total_values) * 100\n",
    "missing.index = missing['features']\n",
    "del missing['features']\n",
    "\n",
    "# Plot the percentage of NaN values\n",
    "fig = go.Figure(data=[go.Bar(x=missing.index, y=missing['percent'], marker_color='blue')])\n",
    "fig.update_layout(title='<b>Missing Values Percent in Dataset</b>',\n",
    "                  xaxis_title='Features',\n",
    "                  yaxis_title='Percent',\n",
    "                  xaxis_tickangle=-90,  # Rotate x-axis labels for better visibility\n",
    "                  )  # Adjust height of the plot as needed\n",
    "fig.update_layout(xaxis=dict(tickfont=dict(size=8)))\n",
    "fig.show()"
   ]
  },
  {
   "cell_type": "code",
   "execution_count": 101,
   "id": "0882cbeb-aaf2-4023-ae56-b0a3ae570683",
   "metadata": {},
   "outputs": [],
   "source": [
    "#summaryse CV_Features\n",
    "CV_features = [col for col in result.columns if '_CV' in col]\n",
    "# Calculate the total number of values for each mean feature\n",
    "cv_columns_description = result[CV_features].describe().round(2)\n",
    "cv_columns_description.to_csv(\"cv_columns_description.csv\")"
   ]
  },
  {
   "cell_type": "code",
   "execution_count": 104,
   "id": "b5029253-713a-47ff-9a0e-c796cbbba623",
   "metadata": {},
   "outputs": [],
   "source": [
    "# summaryse count features\n",
    "num_samples_features = [col for col in result.columns if '_num_samples' in col]\n",
    "# Calculate the total number of values for each mean feature\n",
    "num_samples_columns_description = result[num_samples_features].describe().round(2)\n",
    "num_samples_columns_description\n",
    "num_samples_columns_description.to_csv(\"num_samples_columns_description.csv\")"
   ]
  },
  {
   "cell_type": "code",
   "execution_count": null,
   "id": "df558483-0fcb-4612-813d-93d5fe2f501b",
   "metadata": {
    "jupyter": {
     "source_hidden": true
    }
   },
   "outputs": [],
   "source": [
    "def extract_to_dict(df: pd.DataFrame, features: list) -> pd.DataFrame:\n",
    "     \"\"\"\n",
    "    Extracts mean values for specified features across different hours from a DataFrame.\n",
    "    \n",
    "    Parameters:\n",
    "    - df (pd.DataFrame): DataFrame containing data.\n",
    "    - features (list): List of features (parameters) for which mean values need to be extracted.\n",
    "    \n",
    "    Returns:\n",
    "    - pd.DataFrame: DataFrame containing mean values for specified features across different hours.\n",
    "    \n",
    "    Note:\n",
    "    - Replaces all occurrences of -1.0 with NaNs in the DataFrame.\n",
    "    - Assumes 'Time' column in the DataFrame, converting its values to integer hours.\n",
    "    - Iterates over each feature, filters the DataFrame for the feature, and calculates the mean value for each hour.\n",
    "    - Fills missing hours and missing features with NaN values.\n",
    "    - Constructs a DataFrame with a single row containing mean values for each feature across different hours.\n",
    "    \"\"\"\n",
    "    \n",
    "    # Replace '-1' with NaNs\n",
    "    df = df.replace(-1.0, np.nan)\n",
    "    df['Time'] = df['Time'].apply(lambda x: int(x.split(\":\")[0]))\n",
    "    # Create a dictionary to store the columns for each feature\n",
    "    feature_columns = {}\n",
    "    \n",
    "    # Iterate over each feature\n",
    "    for feat in features:\n",
    "        # Filter the DataFrame for the current feature\n",
    "        feat_df = df[df['Parameter'] == feat]\n",
    "        # Group by hour and calculate mean for each hour\n",
    "        mean_values = feat_df.groupby('Time')['Value'].mean()\n",
    "        \n",
    "        # Fill missing hours with NaN\n",
    "        for hour in range(49):\n",
    "            column_name = f\"{feat}_hour_{hour}\"\n",
    "            mean_value = mean_values.loc[hour] if hour in mean_values.index else np.nan\n",
    "            feature_columns[column_name] = mean_value\n",
    "    \n",
    "    # Create a DataFrame with a single row using the feature_columns dictionary\n",
    "    result_df = pd.DataFrame(feature_columns, index=[0])\n",
    "    \n",
    "    return result_df\n",
    "\n",
    "\n",
    "result = extract_to_dict(df, time_parameters)\n"
   ]
  },
  {
   "cell_type": "code",
   "execution_count": null,
   "id": "94c9e503-4981-4ef5-9f52-885fe50ce089",
   "metadata": {
    "jupyter": {
     "source_hidden": true
    }
   },
   "outputs": [],
   "source": [
    "def create_df_per_hour(df: pd.DataFrame, features: list) -> pd.DataFrame:\n",
    "    # Replace '-1' with NaNs\n",
    "    df = df.replace(-1.0, np.nan)\n",
    "    \n",
    "    # Create a DataFrame with all hours from 0 to 48\n",
    "    all_hours_df = pd.DataFrame({'Time': range(49)})\n",
    "    \n",
    "    # Create a dictionary to store the columns for each feature\n",
    "    feature_columns = {}\n",
    "    \n",
    "    for hour in range(49):\n",
    "        for feat in features:\n",
    "            column_name = f\"{feat}_hour_{hour}\"\n",
    "            if feat in df['Parameter'].unique():\n",
    "                # Calculate mean value for the parameter at the current hour\n",
    "                mean_value = df.loc[(df['Parameter'] == feat) & (df['Time'] == hour), 'Value'].mean()\n",
    "                # Add the mean value to the dictionary\n",
    "                feature_columns[column_name] = mean_value\n",
    "            else:\n",
    "                # If the feature does not exist, set NaN for the current hour\n",
    "                feature_columns[column_name] = np.nan\n",
    "    \n",
    "    # Create a DataFrame with a single row using the feature_columns dictionary\n",
    "    result_df = pd.DataFrame(feature_columns, index=[0])\n",
    "    \n",
    "    return result_df\n",
    "\n",
    "# Assuming create_df_per_hour function is defined properly\n",
    "\n",
    "files_path = r\"C:\\Users\\egh22\\OneDrive - University of Canterbury\\bootcamp\\group project\\data\"\n",
    "# Use glob to find all .txt files in the directory\n",
    "time_series_files = glob.glob(str(Path(files_path) / \"*.txt\"))  # Using Path to construct the file path\n",
    "\n",
    "# List to store the results for each file\n",
    "results = []\n",
    "\n",
    "# Loop through each file\n",
    "for file_path in time_series_files:\n",
    "    # Read the file into a DataFrame\n",
    "    df = pd.read_csv(file_path)\n",
    "    \n",
    "    # Create DataFrame per hour using create_df_per_hour function\n",
    "    result = create_df_per_hour(df, time_parameters)\n",
    "    \n",
    "    # Append the result to the results list\n",
    "    results.append(result)\n",
    "\n",
    "# Concatenate results into a single DataFrame\n",
    "final_result = pd.concat(results, ignore_index=True)\n",
    "\n",
    "# Display the final result\n",
    "print(final_result)\n",
    "\n",
    "# Display the final result\n",
    "print(final_result)\n",
    "\n",
    "\n"
   ]
  },
  {
   "cell_type": "code",
   "execution_count": null,
   "id": "dc6fdd12-e626-4a7a-a47d-e3c0a28aeea4",
   "metadata": {
    "jupyter": {
     "source_hidden": true
    }
   },
   "outputs": [],
   "source": [
    "def create_df_per_hour(df: pd.DataFrame, features: list) -> pd.DataFrame:\n",
    "    # Replace '-1' with NaNs\n",
    "    df = df.replace(-1.0, np.nan)\n",
    "    \n",
    "    # Create a DataFrame with all hours from 0 to 48\n",
    "    all_hours_df = pd.DataFrame({'Time': range(49)})\n",
    "    \n",
    "    # Create a dictionary to store the columns for each feature\n",
    "    feature_columns = {}\n",
    "    \n",
    "    # Set single values for 'RecordID', 'Age', 'Height', and 'Gender'\n",
    "    for feat in ['RecordID', 'Age', 'Height', 'Gender']:\n",
    "        if feat in df['Parameter'].unique():\n",
    "            value = df.loc[df['Parameter'] == feat, 'Value'].iloc[0]\n",
    "            feature_columns[feat] = value\n",
    "    \n",
    "    # Calculate mean values for other features over the hours\n",
    "    for feat in features:\n",
    "        if feat not in ['RecordID', 'Age', 'Height', 'Gender']:\n",
    "            mean_values = []\n",
    "            for hour in range(49):\n",
    "                # Get values for the current hour\n",
    "                values_hour = df.loc[(df['Parameter'] == feat) & (df['Time'] == hour), 'Value']\n",
    "                if not values_hour.empty:\n",
    "                    mean_value = values_hour.mean()\n",
    "                else:\n",
    "                    mean_value = np.nan\n",
    "                mean_values.append(mean_value)\n",
    "            if not all(np.isnan(mean_values)):\n",
    "                feature_columns[feat] = np.nanmean(mean_values)  # Using np.nanmean to handle NaN values\n",
    "            else:\n",
    "                feature_columns[feat] = np.nan\n",
    "    \n",
    "    # Create a DataFrame with a single row using the feature_columns dictionary\n",
    "    result_df = pd.DataFrame(feature_columns, index=[0])\n",
    "    \n",
    "    return result_df\n",
    "\n",
    "create_df_per_hour(df, time_parameters)"
   ]
  }
 ],
 "metadata": {
  "kernelspec": {
   "display_name": "Python 3 (ipykernel)",
   "language": "python",
   "name": "python3"
  },
  "language_info": {
   "codemirror_mode": {
    "name": "ipython",
    "version": 3
   },
   "file_extension": ".py",
   "mimetype": "text/x-python",
   "name": "python",
   "nbconvert_exporter": "python",
   "pygments_lexer": "ipython3",
   "version": "3.11.5"
  }
 },
 "nbformat": 4,
 "nbformat_minor": 5
}
